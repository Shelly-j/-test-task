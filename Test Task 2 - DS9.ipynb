{
 "cells": [
  {
   "cell_type": "markdown",
   "metadata": {},
   "source": [
    "#  Test Task 2 (Data Science- DS9) :\n",
    "\n",
    "## Consider the dataset named iris (link given below) which consists of data of different species and their attributes. Perform the following operations to the dataset:"
   ]
  },
  {
   "cell_type": "code",
   "execution_count": 12,
   "metadata": {},
   "outputs": [
    {
     "name": "stderr",
     "output_type": "stream",
     "text": [
      "Warning message:\n",
      "\"package 'e1071' is in use and will not be installed\""
     ]
    }
   ],
   "source": [
    "# libraries used\n",
    "library(\"caret\")\n",
    "install.packages(\"e1071\")\n",
    "library(\"e1071\")\n",
    "library(\"datasets\")\n"
   ]
  },
  {
   "cell_type": "markdown",
   "metadata": {},
   "source": [
    "### 1.Import the data set"
   ]
  },
  {
   "cell_type": "code",
   "execution_count": 13,
   "metadata": {},
   "outputs": [
    {
     "name": "stdout",
     "output_type": "stream",
     "text": [
      "'data.frame':\t150 obs. of  5 variables:\n",
      " $ Sepal.Length: num  5.1 4.9 4.7 4.6 5 5.4 4.6 5 4.4 4.9 ...\n",
      " $ Sepal.Width : num  3.5 3 3.2 3.1 3.6 3.9 3.4 3.4 2.9 3.1 ...\n",
      " $ Petal.Length: num  1.4 1.4 1.3 1.5 1.4 1.7 1.4 1.5 1.4 1.5 ...\n",
      " $ Petal.Width : num  0.2 0.2 0.2 0.2 0.2 0.4 0.3 0.2 0.2 0.1 ...\n",
      " $ Species     : Factor w/ 3 levels \"setosa\",\"versicolor\",..: 1 1 1 1 1 1 1 1 1 1 ...\n"
     ]
    },
    {
     "data": {
      "text/plain": [
       "\n",
       "    setosa versicolor  virginica \n",
       "        50         50         50 "
      ]
     },
     "metadata": {},
     "output_type": "display_data"
    }
   ],
   "source": [
    "# cas also be done using read.cvs() command but since, iris is a built-in dataset and can be found in library dataset.\n",
    "\n",
    "data102<- iris\n",
    "str(data102)\n",
    "table(iris$Species)"
   ]
  },
  {
   "cell_type": "markdown",
   "metadata": {},
   "source": [
    "### 2.Store the split data into separate variables.\n"
   ]
  },
  {
   "cell_type": "code",
   "execution_count": 14,
   "metadata": {},
   "outputs": [],
   "source": [
    "intrain<- createDataPartition(data102$Species,p=0.7,list=FALSE)\n",
    "training<- data102[intrain,]\n",
    "test<- data102[-intrain,]"
   ]
  },
  {
   "cell_type": "markdown",
   "metadata": {},
   "source": [
    "### 3.Create a naive Bayes model on the training dataset\n"
   ]
  },
  {
   "cell_type": "code",
   "execution_count": 15,
   "metadata": {},
   "outputs": [
    {
     "name": "stdout",
     "output_type": "stream",
     "text": [
      "\n",
      "Naive Bayes Classifier for Discrete Predictors\n",
      "\n",
      "Call:\n",
      "naiveBayes.default(x = X, y = Y, laplace = laplace)\n",
      "\n",
      "A-priori probabilities:\n",
      "Y\n",
      "    setosa versicolor  virginica \n",
      " 0.3333333  0.3333333  0.3333333 \n",
      "\n",
      "Conditional probabilities:\n",
      "            Sepal.Length\n",
      "Y             [,1]      [,2]\n",
      "  setosa     5.006 0.3524897\n",
      "  versicolor 5.936 0.5161711\n",
      "  virginica  6.588 0.6358796\n",
      "\n",
      "            Sepal.Width\n",
      "Y             [,1]      [,2]\n",
      "  setosa     3.428 0.3790644\n",
      "  versicolor 2.770 0.3137983\n",
      "  virginica  2.974 0.3224966\n",
      "\n",
      "            Petal.Length\n",
      "Y             [,1]      [,2]\n",
      "  setosa     1.462 0.1736640\n",
      "  versicolor 4.260 0.4699110\n",
      "  virginica  5.552 0.5518947\n",
      "\n",
      "            Petal.Width\n",
      "Y             [,1]      [,2]\n",
      "  setosa     0.246 0.1053856\n",
      "  versicolor 1.326 0.1977527\n",
      "  virginica  2.026 0.2746501\n",
      "\n"
     ]
    }
   ],
   "source": [
    "NB_model<- naiveBayes(data102$Species~.,data102) \n",
    "print(NB_model)"
   ]
  },
  {
   "cell_type": "code",
   "execution_count": 16,
   "metadata": {},
   "outputs": [],
   "source": [
    "# getteings labels of test and train dataset.\n",
    "traininglabel<- training$Species\n",
    "testlabel<- test$Species"
   ]
  },
  {
   "cell_type": "markdown",
   "metadata": {},
   "source": [
    "###  4.Now predict the data model for a testing dataset that you have separated in bit b.\n"
   ]
  },
  {
   "cell_type": "code",
   "execution_count": 17,
   "metadata": {},
   "outputs": [
    {
     "name": "stdout",
     "output_type": "stream",
     "text": [
      " [1] setosa     setosa     setosa     setosa     setosa     setosa    \n",
      " [7] setosa     setosa     setosa     setosa     setosa     setosa    \n",
      "[13] setosa     setosa     setosa     versicolor versicolor versicolor\n",
      "[19] versicolor versicolor versicolor versicolor versicolor versicolor\n",
      "[25] virginica  versicolor versicolor versicolor versicolor versicolor\n",
      "[31] virginica  virginica  virginica  virginica  virginica  virginica \n",
      "[37] virginica  virginica  virginica  versicolor virginica  virginica \n",
      "[43] virginica  virginica  virginica \n",
      "Levels: setosa versicolor virginica\n"
     ]
    }
   ],
   "source": [
    "pred=predict(NB_model,test)\n",
    "print(pred)"
   ]
  },
  {
   "cell_type": "markdown",
   "metadata": {},
   "source": [
    "###  5.For accuracy count we used confusion matrix.\n"
   ]
  },
  {
   "cell_type": "code",
   "execution_count": 20,
   "metadata": {},
   "outputs": [
    {
     "name": "stdout",
     "output_type": "stream",
     "text": [
      "[1] \"summary of confusion matrix of above developed naive bayes model\"\n"
     ]
    },
    {
     "data": {
      "text/plain": [
       "Confusion Matrix and Statistics\n",
       "\n",
       "            testlabel\n",
       "pred         setosa versicolor virginica\n",
       "  setosa         15          0         0\n",
       "  versicolor      0         14         1\n",
       "  virginica       0          1        14\n",
       "\n",
       "Overall Statistics\n",
       "                                          \n",
       "               Accuracy : 0.9556          \n",
       "                 95% CI : (0.8485, 0.9946)\n",
       "    No Information Rate : 0.3333          \n",
       "    P-Value [Acc > NIR] : < 2.2e-16       \n",
       "                                          \n",
       "                  Kappa : 0.9333          \n",
       "                                          \n",
       " Mcnemar's Test P-Value : NA              \n",
       "\n",
       "Statistics by Class:\n",
       "\n",
       "                     Class: setosa Class: versicolor Class: virginica\n",
       "Sensitivity                 1.0000            0.9333           0.9333\n",
       "Specificity                 1.0000            0.9667           0.9667\n",
       "Pos Pred Value              1.0000            0.9333           0.9333\n",
       "Neg Pred Value              1.0000            0.9667           0.9667\n",
       "Prevalence                  0.3333            0.3333           0.3333\n",
       "Detection Rate              0.3333            0.3111           0.3111\n",
       "Detection Prevalence        0.3333            0.3333           0.3333\n",
       "Balanced Accuracy           1.0000            0.9500           0.9500"
      ]
     },
     "metadata": {},
     "output_type": "display_data"
    },
    {
     "name": "stdout",
     "output_type": "stream",
     "text": [
      "[1] \"Accuracy rate of above model is: \"\n"
     ]
    },
    {
     "data": {
      "text/html": [
       "0.955555555555556"
      ],
      "text/latex": [
       "0.955555555555556"
      ],
      "text/markdown": [
       "0.955555555555556"
      ],
      "text/plain": [
       "[1] 0.9555556"
      ]
     },
     "metadata": {},
     "output_type": "display_data"
    }
   ],
   "source": [
    "NB_tab<- table(pred,testlabel)\n",
    "print(\"summary of confusion matrix of above developed naive bayes model\");confusionMatrix(NB_tab)\n",
    "print(\"Accuracy rate of above model is: \"); (sum(diag(NB_tab))/sum(NB_tab))"
   ]
  },
  {
   "cell_type": "code",
   "execution_count": null,
   "metadata": {},
   "outputs": [],
   "source": []
  }
 ],
 "metadata": {
  "kernelspec": {
   "display_name": "R",
   "language": "R",
   "name": "ir"
  },
  "language_info": {
   "codemirror_mode": "r",
   "file_extension": ".r",
   "mimetype": "text/x-r-source",
   "name": "R",
   "pygments_lexer": "r",
   "version": "3.6.1"
  }
 },
 "nbformat": 4,
 "nbformat_minor": 2
}
