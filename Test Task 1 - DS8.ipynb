{
 "cells": [
  {
   "cell_type": "markdown",
   "metadata": {},
   "source": [
    "# Test Task 1 (Data Science- DS8):\n",
    "\n",
    "## For the dataset named “iris” consisting of attributes such as sepal length, petal length, sepal width, petal width and Species. Perform Divisive hierarchical clustering and plot the dendrogram obtained and find the divisive coefficient."
   ]
  },
  {
   "cell_type": "code",
   "execution_count": 2,
   "metadata": {},
   "outputs": [],
   "source": [
    "# libraries used \n",
    "library(cluster)\n",
    "library(datasets)"
   ]
  },
  {
   "cell_type": "code",
   "execution_count": 3,
   "metadata": {},
   "outputs": [
    {
     "name": "stdout",
     "output_type": "stream",
     "text": [
      "'data.frame':\t150 obs. of  5 variables:\n",
      " $ Sepal.Length: num  5.1 4.9 4.7 4.6 5 5.4 4.6 5 4.4 4.9 ...\n",
      " $ Sepal.Width : num  3.5 3 3.2 3.1 3.6 3.9 3.4 3.4 2.9 3.1 ...\n",
      " $ Petal.Length: num  1.4 1.4 1.3 1.5 1.4 1.7 1.4 1.5 1.4 1.5 ...\n",
      " $ Petal.Width : num  0.2 0.2 0.2 0.2 0.2 0.4 0.3 0.2 0.2 0.1 ...\n",
      " $ Species     : Factor w/ 3 levels \"setosa\",\"versicolor\",..: 1 1 1 1 1 1 1 1 1 1 ...\n"
     ]
    },
    {
     "data": {
      "text/plain": [
       "\n",
       "    setosa versicolor  virginica \n",
       "        50         50         50 "
      ]
     },
     "metadata": {},
     "output_type": "display_data"
    }
   ],
   "source": [
    "# storing data into variable and having basic data insights\n",
    "data<- iris\n",
    "str(data)\n",
    "table(data$Species)\n"
   ]
  },
  {
   "cell_type": "markdown",
   "metadata": {},
   "source": [
    "## Basic Theory for analysis\n",
    "### Before performing divisive hierarchical clustering, we should understand what it is? \n",
    "### Hierarchical clustering is one of the various clustering methods available which does not require to pre-specify the number of clusters to be generated. Also, its result, when ploted give us an attractive tree-based representation of the observations, called a dendrogram.\n",
    "### Hierarchical clustering is divided into two categories based on type of algorithimic structure they follow. \n",
    "### 1.  Agglomerative Hierarchical Clustering (bottom-up approach). In agglomerative clustering each object creates its own clusters and these clusters are grouped together to create a large single cluster. \n",
    "### 2. Divisive Hierarchical Clustering( Top-down approach). In divisive clustering the parent cluster is divided into smaller cluster and it keeps on dividing till each cluster has a single object to represent."
   ]
  },
  {
   "cell_type": "code",
   "execution_count": 4,
   "metadata": {},
   "outputs": [
    {
     "data": {
      "image/png": "[encoded data removed]",
      "text/plain": [
       "plot without title"
      ]
     },
     "metadata": {},
     "output_type": "display_data"
    }
   ],
   "source": [
    "# The R function diana provided by the cluster package allows us to perform divisive hierarchical clustering. \n",
    "divisive <- diana(data)\n",
    "\n",
    "# as.dendrogram is use to convert the data in such a form which is apt to plot dendrogram.\n",
    "dendo<- as.dendrogram(divisive)\n",
    "np<- list(cex=0.8, col=c(\"black\", \"blue\"))\n",
    "plot(dendo,nodePar = np,edgePar =list(col=c(\"red\",\"green\")))\n",
    "\n",
    "# function pltree of cluster package can also be use to plot drendrogram."
   ]
  },
  {
   "cell_type": "code",
   "execution_count": 5,
   "metadata": {},
   "outputs": [
    {
     "data": {
      "text/html": [
       "0.953811003576106"
      ],
      "text/latex": [
       "0.953811003576106"
      ],
      "text/markdown": [
       "0.953811003576106"
      ],
      "text/plain": [
       "[1] 0.953811"
      ]
     },
     "metadata": {},
     "output_type": "display_data"
    }
   ],
   "source": [
    "# Divise coefficient \n",
    "divisive$dc\n"
   ]
  },
  {
   "cell_type": "markdown",
   "metadata": {},
   "source": [
    "## Insights drawn from above dendrogram\n",
    "### Since the height of the cut to the dendrogram controls the number of clusters obtained therefore from above dendrogram we can conclude that there exist  3 clusters in the above dataset."
   ]
  }
 ],
 "metadata": {
  "kernelspec": {
   "display_name": "R",
   "language": "R",
   "name": "ir"
  },
  "language_info": {
   "codemirror_mode": "r",
   "file_extension": ".r",
   "mimetype": "text/x-r-source",
   "name": "R",
   "pygments_lexer": "r",
   "version": "3.6.1"
  }
 },
 "nbformat": 4,
 "nbformat_minor": 2
}
